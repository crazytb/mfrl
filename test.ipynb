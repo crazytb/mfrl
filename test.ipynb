{
 "cells": [
  {
   "cell_type": "code",
   "execution_count": 3,
   "metadata": {},
   "outputs": [
    {
     "data": {
      "text/plain": [
       "[0.1111111111111111,\n",
       " 0.2222222222222222,\n",
       " 0.3333333333333333,\n",
       " 0.4444444444444444,\n",
       " 0.5555555555555556,\n",
       " 0.6666666666666666,\n",
       " 0.7777777777777777,\n",
       " 0.8888888888888888]"
      ]
     },
     "execution_count": 3,
     "metadata": {},
     "output_type": "execute_result"
    }
   ],
   "source": [
    "import numpy as np\n",
    "node_n = 8\n",
    "\n",
    "np.linspace(0, 1, node_n+2).tolist()[1:-1]"
   ]
  },
  {
   "cell_type": "code",
   "execution_count": 2,
   "metadata": {},
   "outputs": [
    {
     "name": "stdout",
     "output_type": "stream",
     "text": [
      "[[0. 1. 1. 1. 1. 0. 0. 0. 0. 1.]\n",
      " [1. 0. 0. 0. 0. 0. 0. 0. 0. 0.]\n",
      " [1. 0. 0. 0. 0. 0. 0. 0. 0. 0.]\n",
      " [1. 0. 0. 0. 0. 0. 0. 0. 0. 0.]\n",
      " [1. 0. 0. 0. 0. 0. 0. 0. 0. 0.]\n",
      " [0. 0. 0. 0. 0. 0. 0. 0. 0. 1.]\n",
      " [0. 0. 0. 0. 0. 0. 0. 0. 0. 1.]\n",
      " [0. 0. 0. 0. 0. 0. 0. 0. 0. 1.]\n",
      " [0. 0. 0. 0. 0. 0. 0. 0. 0. 1.]\n",
      " [1. 0. 0. 0. 0. 1. 1. 1. 1. 0.]]\n"
     ]
    }
   ],
   "source": [
    "# Make topology\n",
    "topology = Topology(10, \"dumbbell\", 0.5)\n",
    "topology.show_adjacency_matrix()\n",
    "node_n = topology.n\n",
    "N_OBSERVATIONS = 2\n",
    "N_ACTIONS = 2"
   ]
  },
  {
   "cell_type": "code",
   "execution_count": 3,
   "metadata": {},
   "outputs": [
    {
     "name": "stdout",
     "output_type": "stream",
     "text": [
      "Average Utility over 100 episodes: 40.05595556747705\n"
     ]
    }
   ],
   "source": [
    "import csv\n",
    "\n",
    "class NetworkEnvironment(gym.Env):\n",
    "    def __init__(self, topology, n_observations, n_actions, episode_length=300):\n",
    "        super(NetworkEnvironment, self).__init__()\n",
    "        self.topology = topology\n",
    "        self.node_n = topology.n\n",
    "        self.n_observations = n_observations\n",
    "        self.n_actions = n_actions\n",
    "        self.episode_length = episode_length\n",
    "        self.current_step = 0\n",
    "        self.aoi = np.ones(self.node_n) / episode_length\n",
    "        \n",
    "        self.action_space = spaces.Discrete(n_actions)\n",
    "        self.observation_space = spaces.Box(low=0, high=1, shape=(self.node_n, n_observations), dtype=np.float32)\n",
    "        \n",
    "    def reset(self):\n",
    "        self.current_step = 0\n",
    "        self.aoi = np.ones(self.node_n) / self.episode_length\n",
    "        return self._get_obs()\n",
    "        \n",
    "    def _get_obs(self):\n",
    "        return np.repeat(self.aoi.reshape(-1, 1), self.n_observations, axis=1)\n",
    "    \n",
    "    def step(self, actions):\n",
    "        transmission_probs = np.random.rand(self.node_n)\n",
    "        successful_transmissions = (transmission_probs < actions).astype(int)\n",
    "        \n",
    "        for i in range(self.node_n):\n",
    "            if successful_transmissions[i] == 1:\n",
    "                neighbors = np.where(self.topology.adjacency_matrix[i] == 1)[0]\n",
    "                self.aoi[neighbors] = 1 / self.episode_length\n",
    "        \n",
    "        self.aoi += 1 / self.episode_length\n",
    "        \n",
    "        self.current_step += 1\n",
    "        done = self.current_step >= self.episode_length\n",
    "        \n",
    "        utility = np.log2(self.aoi + 1).sum()\n",
    "        reward = utility\n",
    "        \n",
    "        return self._get_obs(), reward, done, successful_transmissions\n",
    "    \n",
    "    def render(self):\n",
    "        pass\n",
    "\n",
    "def calculate_average_utility_and_log(topology, n_observations, n_actions, n_episodes=100, log_file=\"simulation_logs.csv\"):\n",
    "    env = NetworkEnvironment(topology, n_observations, n_actions)\n",
    "    total_utility = 0\n",
    "    log_data = []\n",
    "\n",
    "    for episode in range(n_episodes):\n",
    "        obs = env.reset()\n",
    "        episode_utility = 0\n",
    "        \n",
    "        for step in range(env.episode_length):\n",
    "            actions = np.random.rand(env.node_n)\n",
    "            obs, reward, done, transmissions = env.step(actions)\n",
    "            episode_utility += reward\n",
    "\n",
    "            log_entry = [episode, step] + transmissions.tolist()\n",
    "            log_data.append(log_entry)\n",
    "            \n",
    "            if done:\n",
    "                break\n",
    "                \n",
    "        total_utility += episode_utility\n",
    "    \n",
    "    # Save logs to CSV\n",
    "    with open(log_file, mode='w', newline='') as file:\n",
    "        writer = csv.writer(file)\n",
    "        header = [\"Episode\", \"Step\"] + [f\"Node_{i+1}\" for i in range(env.node_n)]\n",
    "        writer.writerow(header)\n",
    "        writer.writerows(log_data)\n",
    "    \n",
    "    average_utility = total_utility / n_episodes\n",
    "    return average_utility\n",
    "\n",
    "# Example usage\n",
    "topology = Topology(10, \"dumbbell\", 0.5)\n",
    "average_utility = calculate_average_utility_and_log(topology, N_OBSERVATIONS, N_ACTIONS, n_episodes=100, log_file=\"simulation_logs.csv\")\n",
    "print(f\"Average Utility over 100 episodes: {average_utility}\")\n"
   ]
  }
 ],
 "metadata": {
  "kernelspec": {
   "display_name": "torch-cert",
   "language": "python",
   "name": "python3"
  },
  "language_info": {
   "codemirror_mode": {
    "name": "ipython",
    "version": 3
   },
   "file_extension": ".py",
   "mimetype": "text/x-python",
   "name": "python",
   "nbconvert_exporter": "python",
   "pygments_lexer": "ipython3",
   "version": "3.10.12"
  }
 },
 "nbformat": 4,
 "nbformat_minor": 2
}
