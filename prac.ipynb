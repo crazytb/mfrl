{
 "cells": [
  {
   "cell_type": "code",
   "execution_count": 3,
   "metadata": {},
   "outputs": [
    {
     "data": {
      "text/plain": [
       "array([4, 5, 6])"
      ]
     },
     "execution_count": 3,
     "metadata": {},
     "output_type": "execute_result"
    }
   ],
   "source": [
    "import numpy as np\n",
    "\n",
    "a = np.array([1, 2, 3])\n",
    "b = np.array([4, 5, 6])\n",
    "\n",
    "np.maximum(a, b)"
   ]
  },
  {
   "cell_type": "code",
   "execution_count": 7,
   "metadata": {},
   "outputs": [],
   "source": [
    "from main_mfrl_REINFORCE_RA2C import Pinet as ra2c\n",
    "from main_mfrl_REINFORCE_recurrent import Pinet as recurrent\n",
    "from main_mfrl_REINFORCE_vanilla import Pinet as vanilla\n",
    "from mfrl_lib.lib import *\n",
    "\n",
    "import torch\n",
    "\n",
    "# if GPU is to be used\n",
    "if torch.cuda.is_available():\n",
    "    device = torch.device(\"cuda\")\n",
    "elif torch.backends.mps.is_available():\n",
    "    device = torch.device(\"mps\")\n",
    "else:\n",
    "    device = torch.device(\"cpu\")\n",
    "\n",
    "# Assuming you've defined these constants elsewhere or importing them too\n",
    "N_OBSERVATIONS = 3\n",
    "N_ACTIONS = 2\n",
    "\n",
    "# Create an instance of Pinet\n",
    "models = [ra2c(N_OBSERVATIONS, N_ACTIONS).to(device) for _ in range(8)]\n",
    "for i in range(8):\n",
    "    models[i].load_state_dict(torch.load(f\"models/RA2C_agent_{i}_20240816_113309.pth\", map_location=device))\n",
    "    models[i].eval()\n",
    "\n"
   ]
  },
  {
   "cell_type": "code",
   "execution_count": 8,
   "metadata": {},
   "outputs": [
    {
     "name": "stdout",
     "output_type": "stream",
     "text": [
      "Sampled action for agent 0: 0\n",
      "Estimated value for agent 0: 0.47969698905944824\n",
      "Sampled action for agent 1: 0\n",
      "Estimated value for agent 1: -0.6916403770446777\n",
      "Sampled action for agent 2: 0\n",
      "Estimated value for agent 2: -0.2694806456565857\n",
      "Sampled action for agent 3: 0\n",
      "Estimated value for agent 3: -0.29422807693481445\n",
      "Sampled action for agent 4: 0\n",
      "Estimated value for agent 4: -0.34012719988822937\n",
      "Sampled action for agent 5: 1\n",
      "Estimated value for agent 5: -0.5117686986923218\n",
      "Sampled action for agent 6: 1\n",
      "Estimated value for agent 6: -0.6181781888008118\n",
      "Sampled action for agent 7: 0\n",
      "Estimated value for agent 7: 0.49812790751457214\n"
     ]
    }
   ],
   "source": [
    "# Use the model\n",
    "observation = torch.randn(1, 1, N_OBSERVATIONS).to(device)  # Example input\n",
    "h = torch.zeros(1, 1, 32).to(device)  # Initial hidden state\n",
    "c = torch.zeros(1, 1, 32).to(device)  # Initial cell state\n",
    "\n",
    "for i in range(8):\n",
    "    model = models[i]\n",
    "    action, log_prob, entropy, value, new_h, new_c = model.sample_action(observation, h, c)\n",
    "    print(f\"Sampled action for agent {i}: {action.item()}\")\n",
    "    print(f\"Estimated value for agent {i}: {value.item()}\")"
   ]
  }
 ],
 "metadata": {
  "kernelspec": {
   "display_name": "Python 3",
   "language": "python",
   "name": "python3"
  },
  "language_info": {
   "codemirror_mode": {
    "name": "ipython",
    "version": 3
   },
   "file_extension": ".py",
   "mimetype": "text/x-python",
   "name": "python",
   "nbconvert_exporter": "python",
   "pygments_lexer": "ipython3",
   "version": "3.10.14"
  }
 },
 "nbformat": 4,
 "nbformat_minor": 2
}
