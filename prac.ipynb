{
 "cells": [
  {
   "cell_type": "code",
   "execution_count": 6,
   "metadata": {},
   "outputs": [],
   "source": [
    "from collections import deque\n",
    "import gymnasium as gym\n",
    "from gymnasium import spaces\n",
    "import networkx as nx\n",
    "import matplotlib.pyplot as plt\n",
    "import numpy as np\n",
    "import torch\n",
    "import torch.nn as nn\n",
    "import torch.nn.functional as F\n",
    "import torch.optim as optim\n",
    "\n",
    "class Topology():\n",
    "    def __init__(self, n, model=\"random\", density=1):\n",
    "        self.n = n\n",
    "        self.model = model\n",
    "        self.density = density\n",
    "        self.adjacency_matrix = self.make_adjacency_matrix()\n",
    "        \n",
    "    def make_adjacency_matrix(self) -> np.ndarray:\n",
    "        \"\"\"Make adjacency matrix of a clique network.\n",
    "        Args:\n",
    "            n (int): Number of nodes.\n",
    "            density (float): Density of the clique network.\n",
    "\n",
    "        Returns:\n",
    "            np.ndarray: Adjacency matrix.\n",
    "        \"\"\"\n",
    "        if self.density < 0 or self.density > 1:\n",
    "            raise ValueError(\"Density must be between 0 and 1.\")\n",
    "\n",
    "        n_edges = int(self.n * (self.n - 1) / 2 * self.density)\n",
    "        adjacency_matrix = np.zeros((self.n, self.n))\n",
    "\n",
    "        if self.model == \"dumbbell\":\n",
    "            adjacency_matrix[0, self.n-1] = 1\n",
    "            adjacency_matrix[self.n-1, 0] = 1\n",
    "            for i in range(1, self.n//2):\n",
    "                adjacency_matrix[0, i] = 1\n",
    "                adjacency_matrix[i, 0] = 1\n",
    "            for i in range(self.n//2+1, self.n):\n",
    "                adjacency_matrix[i-1, self.n-1] = 1\n",
    "                adjacency_matrix[self.n-1, i-1] = 1\n",
    "        elif self.model == \"linear\":\n",
    "            for i in range(1, self.n):\n",
    "                adjacency_matrix[i-1, i] = 1\n",
    "                adjacency_matrix[i, i-1] = 1\n",
    "        elif self.model == \"random\":\n",
    "            for i in range(1, self.n):\n",
    "                adjacency_matrix[i-1, i] = 1\n",
    "                adjacency_matrix[i, i-1] = 1\n",
    "                n_edges -= 1\n",
    "            # If the density of the current adjacency matrix is over density, return it.\n",
    "            if n_edges <= 0:\n",
    "                return adjacency_matrix\n",
    "            else:\n",
    "                arr = [1]*n_edges + [0]*((self.n-1)*(self.n-2)//2 - n_edges)\n",
    "                np.random.shuffle(arr)\n",
    "                for i in range(0, self.n):\n",
    "                    for j in range(i+2, self.n):\n",
    "                        adjacency_matrix[i, j] = arr.pop()\n",
    "                        adjacency_matrix[j, i] = adjacency_matrix[i, j]\n",
    "        else:\n",
    "            raise ValueError(\"Model must be dumbbell, linear, or random.\")\n",
    "        return adjacency_matrix\n",
    "\n",
    "    def show_adjacency_matrix(self):\n",
    "        print(self.adjacency_matrix)\n",
    "        \n",
    "    def get_density(self):\n",
    "        return np.sum(self.adjacency_matrix) / (self.n * (self.n - 1))\n",
    "    \n",
    "    def save_graph_with_labels(self, path):\n",
    "        rows, cols = np.where(self.adjacency_matrix == 1)\n",
    "        edges = zip(rows.tolist(), cols.tolist())\n",
    "        G = nx.Graph()\n",
    "        G.add_edges_from(edges)\n",
    "        pos = nx.kamada_kawai_layout(G)\n",
    "        nx.draw_networkx(G, pos=pos, with_labels=True)\n",
    "        plt.savefig(path + '/adj_graph.png')\n",
    "\n",
    "\n",
    "class MFRLEnv(gym.Env):\n",
    "    actions = np.array([])\n",
    "    def __init__(self, agent):\n",
    "        self.adj_num = agent.get_adjacent_num()\n",
    "        self.adj_ids = agent.get_adjacent_ids()\n",
    "        self.adj_obs = {adj_id: [0, 0] for adj_id in self.adj_ids}\n",
    "        self.counter = 0\n",
    "\n",
    "        self.observation_space = spaces.Box(low=0, high=1, shape=(1, 2))\n",
    "        self.action_space = spaces.Discrete(2)\n",
    "        \n",
    "    def reset(self, seed=None):\n",
    "        super().reset(seed=seed)\n",
    "        observation = np.array([0.5, 0.5])\n",
    "        info = {}\n",
    "        return observation, info\n",
    "    \n",
    "    def gather_actions(self, action):\n",
    "        MFRLEnv.actions = np.append(MFRLEnv.actions, action)\n",
    "        \n",
    "    def calculate_meanfield(self):  \n",
    "        # Return the meanfield observation\n",
    "        if self.idle_check():\n",
    "            return np.array([0, 1])\n",
    "        else:\n",
    "            return np.array(\n",
    "                (self.adj_num*(2**self.adj_num)*np.array([0.5, 0.5]) - self.adj_num*np.array([1, 0])) \n",
    "                / (self.adj_num*(2**self.adj_num)-self.adj_num))\n",
    "\n",
    "    def idle_check(self):\n",
    "        # Check if all the adjacent agents are idle, based on MFRLEnv.actions\n",
    "        if all(MFRLEnv.actions[self.adj_ids] == 0):\n",
    "            return True\n",
    "        else:\n",
    "            return False\n",
    "    \n",
    "    def step(self, action):\n",
    "        observation = self.calculate_meanfield()\n",
    "        if action == 1 and self.idle_check():\n",
    "            reward = 1\n",
    "        else:\n",
    "            reward = 0\n",
    "        terminated = False\n",
    "        self.counter += 1\n",
    "        info = {}\n",
    "        if self.counter == MAX_COUNTER:\n",
    "            terminated = True\n",
    "        return observation, reward, terminated, False, info\n",
    "\n",
    "\n",
    "class Agent:\n",
    "    def __init__(self, topology, id):\n",
    "        self.topology = topology\n",
    "        if id >= topology.n:\n",
    "            raise ValueError(\"id must be less than n.\")\n",
    "        else:\n",
    "            self.id = id\n",
    "        self.env = MFRLEnv(self)\n",
    "         \n",
    "    def get_adjacent_ids(self):\n",
    "        return np.where(self.topology.adjacency_matrix[self.id] == 1)[0]\n",
    "    \n",
    "    def get_adjacent_num(self):\n",
    "        return len(self.get_adjacent_ids())"
   ]
  },
  {
   "cell_type": "code",
   "execution_count": 7,
   "metadata": {},
   "outputs": [
    {
     "name": "stdout",
     "output_type": "stream",
     "text": [
      "[[0. 1. 1. 1. 1. 1. 0. 0. 0. 0. 0. 1.]\n",
      " [1. 0. 0. 0. 0. 0. 0. 0. 0. 0. 0. 0.]\n",
      " [1. 0. 0. 0. 0. 0. 0. 0. 0. 0. 0. 0.]\n",
      " [1. 0. 0. 0. 0. 0. 0. 0. 0. 0. 0. 0.]\n",
      " [1. 0. 0. 0. 0. 0. 0. 0. 0. 0. 0. 0.]\n",
      " [1. 0. 0. 0. 0. 0. 0. 0. 0. 0. 0. 0.]\n",
      " [0. 0. 0. 0. 0. 0. 0. 0. 0. 0. 0. 1.]\n",
      " [0. 0. 0. 0. 0. 0. 0. 0. 0. 0. 0. 1.]\n",
      " [0. 0. 0. 0. 0. 0. 0. 0. 0. 0. 0. 1.]\n",
      " [0. 0. 0. 0. 0. 0. 0. 0. 0. 0. 0. 1.]\n",
      " [0. 0. 0. 0. 0. 0. 0. 0. 0. 0. 0. 1.]\n",
      " [1. 0. 0. 0. 0. 0. 1. 1. 1. 1. 1. 0.]]\n"
     ]
    }
   ],
   "source": [
    "# Make topology\n",
    "topology = Topology(12, \"dumbbell\", 0.5)\n",
    "topology.show_adjacency_matrix()\n",
    "\n",
    "# Make agents\n",
    "MAX_COUNTER = 300\n",
    "agents = [Agent(topology, i) for i in range(topology.n)]"
   ]
  },
  {
   "cell_type": "code",
   "execution_count": 8,
   "metadata": {},
   "outputs": [
    {
     "name": "stdout",
     "output_type": "stream",
     "text": [
      "[[0. 1. 1. 1. 1. 1. 0. 0. 0. 0. 0. 1.]\n",
      " [1. 0. 0. 0. 0. 0. 0. 0. 0. 0. 0. 0.]\n",
      " [1. 0. 0. 0. 0. 0. 0. 0. 0. 0. 0. 0.]\n",
      " [1. 0. 0. 0. 0. 0. 0. 0. 0. 0. 0. 0.]\n",
      " [1. 0. 0. 0. 0. 0. 0. 0. 0. 0. 0. 0.]\n",
      " [1. 0. 0. 0. 0. 0. 0. 0. 0. 0. 0. 0.]\n",
      " [0. 0. 0. 0. 0. 0. 0. 0. 0. 0. 0. 1.]\n",
      " [0. 0. 0. 0. 0. 0. 0. 0. 0. 0. 0. 1.]\n",
      " [0. 0. 0. 0. 0. 0. 0. 0. 0. 0. 0. 1.]\n",
      " [0. 0. 0. 0. 0. 0. 0. 0. 0. 0. 0. 1.]\n",
      " [0. 0. 0. 0. 0. 0. 0. 0. 0. 0. 0. 1.]\n",
      " [1. 0. 0. 0. 0. 0. 1. 1. 1. 1. 1. 0.]]\n"
     ]
    }
   ],
   "source": [
    "agents[0].topology.show_adjacency_matrix()"
   ]
  },
  {
   "cell_type": "code",
   "execution_count": 16,
   "metadata": {},
   "outputs": [
    {
     "name": "stdout",
     "output_type": "stream",
     "text": [
      "[0, 0, 0, 0, 0, 0, 0, 0, 0, 0]\n",
      "[array([1, 2]), 0, 0, 0, 0, 0, 0, 0, 0, 0]\n"
     ]
    }
   ],
   "source": [
    "a = [0]*10\n",
    "print(a)\n",
    "a[0] = np.array([1, 2])\n",
    "print(a)"
   ]
  },
  {
   "cell_type": "code",
   "execution_count": 17,
   "metadata": {},
   "outputs": [],
   "source": [
    "import pandas as pd\n",
    "import numpy as np\n",
    "\n",
    "df = pd.read_csv('agent_rewards.csv')"
   ]
  },
  {
   "cell_type": "code",
   "execution_count": 18,
   "metadata": {},
   "outputs": [
    {
     "name": "stdout",
     "output_type": "stream",
     "text": [
      "      episode  step  agent_0  agent_1  agent_2  agent_3  agent_4\n",
      "0           0     0        0        1        0        0        0\n",
      "1           0     1        0        1        0        0        0\n",
      "2           0     2        0        1        0        0        0\n",
      "3           0     3        0        1        0        0        0\n",
      "4           0     4        0        1        0        0        0\n",
      "...       ...   ...      ...      ...      ...      ...      ...\n",
      "2995        9   295        0        0        0        0        0\n",
      "2996        9   296        0        0        0        0        0\n",
      "2997        9   297        0        0        0        0        0\n",
      "2998        9   298        0        0        0        0        0\n",
      "2999        9   299        0        0        0        0        0\n",
      "\n",
      "[3000 rows x 7 columns]\n"
     ]
    }
   ],
   "source": [
    "# Pivot the dataframe to have columns for each agent's reward at each step of each episode\n",
    "df_pivot = df.pivot_table(index=['episode', 'step'], columns='agent_id', values='reward').reset_index()\n",
    "# Rename the columns appropriately\n",
    "df_pivot.columns = ['episode', 'step'] + [f'agent_{col}' for col in df_pivot.columns[2:]]\n",
    "# Save the pivoted dataframe to a new CSV file\n",
    "print(df_pivot)\n"
   ]
  },
  {
   "cell_type": "code",
   "execution_count": 10,
   "metadata": {},
   "outputs": [
    {
     "name": "stdout",
     "output_type": "stream",
     "text": [
      "tensor([[ 0,  1,  2,  3,  4,  5,  6,  7,  8,  9],\n",
      "        [10, 11, 12, 13, 14, 15, 16, 17, 18, 19],\n",
      "        [20, 21, 22, 23, 24, 25, 26, 27, 28, 29],\n",
      "        [30, 31, 32, 33, 34, 35, 36, 37, 38, 39],\n",
      "        [40, 41, 42, 43, 44, 45, 46, 47, 48, 49],\n",
      "        [50, 51, 52, 53, 54, 55, 56, 57, 58, 59],\n",
      "        [60, 61, 62, 63, 64, 65, 66, 67, 68, 69],\n",
      "        [70, 71, 72, 73, 74, 75, 76, 77, 78, 79],\n",
      "        [80, 81, 82, 83, 84, 85, 86, 87, 88, 89],\n",
      "        [90, 91, 92, 93, 94, 95, 96, 97, 98, 99]])\n",
      "tensor([[0],\n",
      "        [2],\n",
      "        [4],\n",
      "        [6],\n",
      "        [8],\n",
      "        [0],\n",
      "        [2],\n",
      "        [4],\n",
      "        [6],\n",
      "        [8]])\n",
      "tensor([[ 0],\n",
      "        [20],\n",
      "        [40],\n",
      "        [60],\n",
      "        [80],\n",
      "        [ 0],\n",
      "        [20],\n",
      "        [40],\n",
      "        [60],\n",
      "        [80]])\n"
     ]
    }
   ],
   "source": [
    "import torch\n",
    "\n",
    "matrix = torch.arange(0,100).reshape(10,10)\n",
    "indices = [0,2,4,6,8,0,2,4,6,8]\n",
    "indices = torch.tensor(indices).unsqueeze(axis=-1)\n",
    "print(matrix)\n",
    "print(indices)\n",
    "print(matrix.gather(0, indices))"
   ]
  },
  {
   "cell_type": "code",
   "execution_count": 8,
   "metadata": {},
   "outputs": [
    {
     "name": "stdout",
     "output_type": "stream",
     "text": [
      "(1, 2)\n",
      "(1, 2)\n"
     ]
    }
   ],
   "source": [
    "def outp1():\n",
    "    return 1, 2\n",
    "\n",
    "def outp2():\n",
    "    return (1, 2)\n",
    "\n",
    "print(outp1())\n",
    "print(outp2())\n"
   ]
  },
  {
   "cell_type": "code",
   "execution_count": 4,
   "metadata": {},
   "outputs": [
    {
     "name": "stdout",
     "output_type": "stream",
     "text": [
      "tensor([[0.7532, 0.0908, 0.0377],\n",
      "        [0.2468, 0.9092, 0.9623]])\n"
     ]
    }
   ],
   "source": [
    "import torch\n",
    "import torch.nn as nn\n",
    "\n",
    "m = nn.Softmax(dim=0)\n",
    "input = torch.randn(2, 3)\n",
    "output = m(input)\n",
    "print(output)"
   ]
  },
  {
   "cell_type": "code",
   "execution_count": 2,
   "metadata": {},
   "outputs": [
    {
     "data": {
      "text/plain": [
       "array([1, 2, 3, 4])"
      ]
     },
     "execution_count": 2,
     "metadata": {},
     "output_type": "execute_result"
    }
   ],
   "source": [
    "import numpy as np\n",
    "\n",
    "a = np.array([1, 2, 3])\n",
    "b = 4\n",
    "\n",
    "np.append(a, b)"
   ]
  }
 ],
 "metadata": {
  "kernelspec": {
   "display_name": "Python 3",
   "language": "python",
   "name": "python3"
  },
  "language_info": {
   "codemirror_mode": {
    "name": "ipython",
    "version": 3
   },
   "file_extension": ".py",
   "mimetype": "text/x-python",
   "name": "python",
   "nbconvert_exporter": "python",
   "pygments_lexer": "ipython3",
   "version": "3.10.12"
  }
 },
 "nbformat": 4,
 "nbformat_minor": 2
}
